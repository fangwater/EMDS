{
 "cells": [
  {
   "cell_type": "code",
   "execution_count": 2,
   "metadata": {
    "tags": []
   },
   "outputs": [],
   "source": [
    "import pandas as pd\n",
    "import numpy as np\n",
    "import os,os.path\n",
    "import datetime\n",
    "import json\n",
    "import sys"
   ]
  },
  {
   "cell_type": "code",
   "execution_count": 5,
   "metadata": {},
   "outputs": [
    {
     "data": {
      "text/html": [
       "<div>\n",
       "<style scoped>\n",
       "    .dataframe tbody tr th:only-of-type {\n",
       "        vertical-align: middle;\n",
       "    }\n",
       "\n",
       "    .dataframe tbody tr th {\n",
       "        vertical-align: top;\n",
       "    }\n",
       "\n",
       "    .dataframe thead th {\n",
       "        text-align: right;\n",
       "    }\n",
       "</style>\n",
       "<table border=\"1\" class=\"dataframe\">\n",
       "  <thead>\n",
       "    <tr style=\"text-align: right;\">\n",
       "      <th></th>\n",
       "      <th>securityid</th>\n",
       "      <th>datetime</th>\n",
       "      <th>Sv</th>\n",
       "      <th>Scjbs</th>\n",
       "      <th>Bv</th>\n",
       "      <th>Bcjbs</th>\n",
       "      <th>tradv</th>\n",
       "      <th>cjbs</th>\n",
       "      <th>Samt</th>\n",
       "      <th>Bamt</th>\n",
       "      <th>...</th>\n",
       "      <th>Svwap</th>\n",
       "      <th>Bvwap</th>\n",
       "      <th>S_orderDecay</th>\n",
       "      <th>Scjbs_orderDecay</th>\n",
       "      <th>D_orderDecay</th>\n",
       "      <th>Dcjbs_orderDecay</th>\n",
       "      <th>S_decaySlope</th>\n",
       "      <th>Scjbs_decaySlope</th>\n",
       "      <th>D_decaySlope</th>\n",
       "      <th>Dcjbs_decaySlope</th>\n",
       "    </tr>\n",
       "  </thead>\n",
       "  <tbody>\n",
       "    <tr>\n",
       "      <th>2328</th>\n",
       "      <td>b'000018.XSHE'</td>\n",
       "      <td>2023-10-24 09:31:00</td>\n",
       "      <td>NaN</td>\n",
       "      <td>NaN</td>\n",
       "      <td>NaN</td>\n",
       "      <td>NaN</td>\n",
       "      <td>NaN</td>\n",
       "      <td>NaN</td>\n",
       "      <td>NaN</td>\n",
       "      <td>NaN</td>\n",
       "      <td>...</td>\n",
       "      <td>NaN</td>\n",
       "      <td>NaN</td>\n",
       "      <td>NaN</td>\n",
       "      <td>NaN</td>\n",
       "      <td>NaN</td>\n",
       "      <td>NaN</td>\n",
       "      <td>NaN</td>\n",
       "      <td>NaN</td>\n",
       "      <td>NaN</td>\n",
       "      <td>NaN</td>\n",
       "    </tr>\n",
       "  </tbody>\n",
       "</table>\n",
       "<p>1 rows × 70 columns</p>\n",
       "</div>"
      ],
      "text/plain": [
       "          securityid            datetime  Sv  Scjbs  Bv  Bcjbs  tradv  cjbs  \\\n",
       "2328  b'000018.XSHE' 2023-10-24 09:31:00 NaN    NaN NaN    NaN    NaN   NaN   \n",
       "\n",
       "      Samt  Bamt  ...  Svwap  Bvwap  S_orderDecay  Scjbs_orderDecay  \\\n",
       "2328   NaN   NaN  ...    NaN    NaN           NaN               NaN   \n",
       "\n",
       "      D_orderDecay  Dcjbs_orderDecay  S_decaySlope  Scjbs_decaySlope  \\\n",
       "2328           NaN               NaN           NaN               NaN   \n",
       "\n",
       "      D_decaySlope  Dcjbs_decaySlope  \n",
       "2328           NaN               NaN  \n",
       "\n",
       "[1 rows x 70 columns]"
      ]
     },
     "execution_count": 5,
     "metadata": {},
     "output_type": "execute_result"
    }
   ],
   "source": [
    "candle = pd.read_parquet(\"/home/fanghaizhou/project/EMDS/build/bin/parquet_result/order_flow_min/period_1/09_31_00_000.parquet\")\n",
    "candle[candle['securityid'] == \"000018.XSHE\".encode()]"
   ]
  },
  {
   "cell_type": "code",
   "execution_count": 5,
   "metadata": {},
   "outputs": [],
   "source": [
    "# 1811 才是正确的"
   ]
  },
  {
   "cell_type": "code",
   "execution_count": 3,
   "metadata": {
    "tags": []
   },
   "outputs": [],
   "source": [
    "path = \"/home/fanghaizhou/project/EMDS/build/bin/parquet_result/trade_amount_dollar/period_1/09_31_00_000.parquet\"\n",
    "pd.set_option('display.float_format', '{:.5f}'.format)\n",
    "df = pd.read_parquet(path)"
   ]
  },
  {
   "cell_type": "code",
   "execution_count": 7,
   "metadata": {},
   "outputs": [
    {
     "name": "stdout",
     "output_type": "stream",
     "text": [
      "[array([4990716.]), array([0.]), array([0.00519406]), array([3604447.]), array([1216955.]), array([0.00259328]), array([0.00778734]), array([2654569.]), array([2148487.]), array([-0.00780685]), array([1886051.]), array([1371891.]), array([0.00175111])]\n"
     ]
    }
   ],
   "source": [
    "trade_amount_features = [\n",
    "    \"ultraBuyAmt\", \"ultraSellAmt\", \"ultraOrderchg\", \n",
    "    \"bigBuyAmt\", \"bigSellAmt\", \"bigOrderchg\",\n",
    "    \"ultrabigOrderchg\", \"midBuyAmt\", \"midSellAmt\", \n",
    "    \"midOrderchg\", \"smallBuyAmt\", \"smallSellAmt\", \"smallOrderchg\"\n",
    "]\n",
    "ans = []\n",
    "for feature in trade_amount_features:\n",
    "    ans.append(df[df['securityid'] == b'000001.XSHE'][feature].to_list()[0])\n",
    "print(ans)"
   ]
  }
 ],
 "metadata": {
  "kernelspec": {
   "display_name": "Python 3 (ipykernel)",
   "language": "python",
   "name": "python3"
  },
  "language_info": {
   "codemirror_mode": {
    "name": "ipython",
    "version": 3
   },
   "file_extension": ".py",
   "mimetype": "text/x-python",
   "name": "python",
   "nbconvert_exporter": "python",
   "pygments_lexer": "ipython3",
   "version": "3.11.4"
  }
 },
 "nbformat": 4,
 "nbformat_minor": 4
}
